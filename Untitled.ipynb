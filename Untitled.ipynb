{
 "cells": [
  {
   "cell_type": "code",
   "execution_count": 1,
   "id": "6a2aa160-0b5b-42ec-aad7-0de9f0a692ec",
   "metadata": {},
   "outputs": [
    {
     "data": {
      "text/html": [
       "<div>\n",
       "<style scoped>\n",
       "    .dataframe tbody tr th:only-of-type {\n",
       "        vertical-align: middle;\n",
       "    }\n",
       "\n",
       "    .dataframe tbody tr th {\n",
       "        vertical-align: top;\n",
       "    }\n",
       "\n",
       "    .dataframe thead th {\n",
       "        text-align: right;\n",
       "    }\n",
       "</style>\n",
       "<table border=\"1\" class=\"dataframe\">\n",
       "  <thead>\n",
       "    <tr style=\"text-align: right;\">\n",
       "      <th></th>\n",
       "      <th>Customer_ID</th>\n",
       "      <th>Purchase_Amount</th>\n",
       "    </tr>\n",
       "  </thead>\n",
       "  <tbody>\n",
       "    <tr>\n",
       "      <th>0</th>\n",
       "      <td>101</td>\n",
       "      <td>200</td>\n",
       "    </tr>\n",
       "    <tr>\n",
       "      <th>1</th>\n",
       "      <td>102</td>\n",
       "      <td>150</td>\n",
       "    </tr>\n",
       "    <tr>\n",
       "      <th>2</th>\n",
       "      <td>103</td>\n",
       "      <td>180</td>\n",
       "    </tr>\n",
       "    <tr>\n",
       "      <th>3</th>\n",
       "      <td>101</td>\n",
       "      <td>220</td>\n",
       "    </tr>\n",
       "    <tr>\n",
       "      <th>4</th>\n",
       "      <td>104</td>\n",
       "      <td>300</td>\n",
       "    </tr>\n",
       "    <tr>\n",
       "      <th>5</th>\n",
       "      <td>102</td>\n",
       "      <td>200</td>\n",
       "    </tr>\n",
       "    <tr>\n",
       "      <th>6</th>\n",
       "      <td>101</td>\n",
       "      <td>100</td>\n",
       "    </tr>\n",
       "    <tr>\n",
       "      <th>7</th>\n",
       "      <td>105</td>\n",
       "      <td>400</td>\n",
       "    </tr>\n",
       "    <tr>\n",
       "      <th>8</th>\n",
       "      <td>102</td>\n",
       "      <td>250</td>\n",
       "    </tr>\n",
       "    <tr>\n",
       "      <th>9</th>\n",
       "      <td>103</td>\n",
       "      <td>300</td>\n",
       "    </tr>\n",
       "  </tbody>\n",
       "</table>\n",
       "</div>"
      ],
      "text/plain": [
       "   Customer_ID  Purchase_Amount\n",
       "0          101              200\n",
       "1          102              150\n",
       "2          103              180\n",
       "3          101              220\n",
       "4          104              300\n",
       "5          102              200\n",
       "6          101              100\n",
       "7          105              400\n",
       "8          102              250\n",
       "9          103              300"
      ]
     },
     "execution_count": 1,
     "metadata": {},
     "output_type": "execute_result"
    }
   ],
   "source": [
    "data = {'Customer_ID': [101, 102, 103, 101, 104, 102, 101, 105, 102, 103],\n",
    "        'Purchase_Amount': [200, 150, 180, 220, 300, 200, 100, 400, 250, 300]}\n",
    "import pandas as pd\n",
    "data=pd.DataFrame(data)\n",
    "data"
   ]
  },
  {
   "cell_type": "code",
   "execution_count": 2,
   "id": "26559e6a-d24a-4a8a-aecd-9145723c3df4",
   "metadata": {},
   "outputs": [
    {
     "data": {
      "text/html": [
       "<div>\n",
       "<style scoped>\n",
       "    .dataframe tbody tr th:only-of-type {\n",
       "        vertical-align: middle;\n",
       "    }\n",
       "\n",
       "    .dataframe tbody tr th {\n",
       "        vertical-align: top;\n",
       "    }\n",
       "\n",
       "    .dataframe thead th {\n",
       "        text-align: right;\n",
       "    }\n",
       "</style>\n",
       "<table border=\"1\" class=\"dataframe\">\n",
       "  <thead>\n",
       "    <tr style=\"text-align: right;\">\n",
       "      <th></th>\n",
       "      <th>Customer_ID</th>\n",
       "      <th>Purchase_Amount</th>\n",
       "    </tr>\n",
       "  </thead>\n",
       "  <tbody>\n",
       "    <tr>\n",
       "      <th>0</th>\n",
       "      <td>101</td>\n",
       "      <td>520</td>\n",
       "    </tr>\n",
       "    <tr>\n",
       "      <th>1</th>\n",
       "      <td>102</td>\n",
       "      <td>600</td>\n",
       "    </tr>\n",
       "    <tr>\n",
       "      <th>2</th>\n",
       "      <td>103</td>\n",
       "      <td>480</td>\n",
       "    </tr>\n",
       "    <tr>\n",
       "      <th>3</th>\n",
       "      <td>104</td>\n",
       "      <td>300</td>\n",
       "    </tr>\n",
       "    <tr>\n",
       "      <th>4</th>\n",
       "      <td>105</td>\n",
       "      <td>400</td>\n",
       "    </tr>\n",
       "  </tbody>\n",
       "</table>\n",
       "</div>"
      ],
      "text/plain": [
       "   Customer_ID  Purchase_Amount\n",
       "0          101              520\n",
       "1          102              600\n",
       "2          103              480\n",
       "3          104              300\n",
       "4          105              400"
      ]
     },
     "execution_count": 2,
     "metadata": {},
     "output_type": "execute_result"
    }
   ],
   "source": [
    "unique_customer_id=data.groupby('Customer_ID')['Purchase_Amount'].sum().reset_index()\n",
    "unique_customer_id"
   ]
  },
  {
   "cell_type": "code",
   "execution_count": 3,
   "id": "ddbf0128-d2b3-4b43-9cf2-75eae6bb9888",
   "metadata": {},
   "outputs": [
    {
     "data": {
      "text/html": [
       "<div>\n",
       "<style scoped>\n",
       "    .dataframe tbody tr th:only-of-type {\n",
       "        vertical-align: middle;\n",
       "    }\n",
       "\n",
       "    .dataframe tbody tr th {\n",
       "        vertical-align: top;\n",
       "    }\n",
       "\n",
       "    .dataframe thead th {\n",
       "        text-align: right;\n",
       "    }\n",
       "</style>\n",
       "<table border=\"1\" class=\"dataframe\">\n",
       "  <thead>\n",
       "    <tr style=\"text-align: right;\">\n",
       "      <th></th>\n",
       "      <th>index</th>\n",
       "      <th>Customer_ID</th>\n",
       "      <th>Purchase_Amount</th>\n",
       "    </tr>\n",
       "  </thead>\n",
       "  <tbody>\n",
       "    <tr>\n",
       "      <th>0</th>\n",
       "      <td>1</td>\n",
       "      <td>102</td>\n",
       "      <td>600</td>\n",
       "    </tr>\n",
       "    <tr>\n",
       "      <th>1</th>\n",
       "      <td>0</td>\n",
       "      <td>101</td>\n",
       "      <td>520</td>\n",
       "    </tr>\n",
       "    <tr>\n",
       "      <th>2</th>\n",
       "      <td>2</td>\n",
       "      <td>103</td>\n",
       "      <td>480</td>\n",
       "    </tr>\n",
       "  </tbody>\n",
       "</table>\n",
       "</div>"
      ],
      "text/plain": [
       "   index  Customer_ID  Purchase_Amount\n",
       "0      1          102              600\n",
       "1      0          101              520\n",
       "2      2          103              480"
      ]
     },
     "execution_count": 3,
     "metadata": {},
     "output_type": "execute_result"
    }
   ],
   "source": [
    "top_customers=unique_customer_id.sort_values('Purchase_Amount',ascending=False).reset_index()\n",
    "top_customers.head(3)"
   ]
  },
  {
   "cell_type": "markdown",
   "id": "18367b53-3071-4378-a3e1-032bac08ba49",
   "metadata": {},
   "source": [
    "2."
   ]
  },
  {
   "cell_type": "code",
   "execution_count": 4,
   "id": "059a9eb4-a414-4954-82aa-2512b098d1b9",
   "metadata": {},
   "outputs": [
    {
     "name": "stdout",
     "output_type": "stream",
     "text": [
      "Q1: 31.5\n",
      "Q3: 83.75\n",
      "IQR: 52.25\n",
      "Lesser Outlier is -46.875\n",
      "Greater Outlier is 162.125\n",
      "The Median is 43.0\n"
     ]
    }
   ],
   "source": [
    "data = {'Day': range(1, 31),\n",
    "        'Sales': [25, 30, 28, 45, 55, 60, 22, 80, 95, 120,\n",
    "                  33, 29, 27, 35, 40, 50, 85, 110, 105, 92,\n",
    "                  30, 34, 31, 33, 36, 42, 44, 48, 90, 200]}\n",
    "data=pd.DataFrame(data)\n",
    "import numpy as np\n",
    "#calculating Q1 and Q3\n",
    "q1=np.percentile(data['Sales'],25)\n",
    "q3=np.percentile(data['Sales'],75)\n",
    "print(\"Q1:\",q1)\n",
    "print(\"Q3:\",q3)\n",
    "\n",
    "#IQR\n",
    "iqr=q3-q1\n",
    "rule = 1.5*iqr\n",
    "print(\"IQR:\",iqr)\n",
    "\n",
    "#Outlier Detection\n",
    "less_outlier=q1-rule\n",
    "great_outlier=q3+rule\n",
    "print(\"Lesser Outlier is\",less_outlier)\n",
    "print(\"Greater Outlier is\",great_outlier)\n",
    "\n",
    "#Median Calculation\n",
    "median=np.median(data[\"Sales\"])\n",
    "print(\"The Median is\",median)"
   ]
  },
  {
   "cell_type": "code",
   "execution_count": 5,
   "id": "f7bfc09f-5b9a-4651-b657-1a900068bdef",
   "metadata": {},
   "outputs": [
    {
     "name": "stdout",
     "output_type": "stream",
     "text": [
      "[200]\n"
     ]
    }
   ],
   "source": [
    "outlier=[]\n",
    "for i in data[\"Sales\"]:\n",
    "    if(i>great_outlier):\n",
    "        outlier.append(i)\n",
    "        print(outlier)"
   ]
  },
  {
   "cell_type": "code",
   "execution_count": 6,
   "id": "38956dfc-fdbf-43c9-b0a6-0f8c9a83d641",
   "metadata": {},
   "outputs": [
    {
     "data": {
      "text/html": [
       "<div>\n",
       "<style scoped>\n",
       "    .dataframe tbody tr th:only-of-type {\n",
       "        vertical-align: middle;\n",
       "    }\n",
       "\n",
       "    .dataframe tbody tr th {\n",
       "        vertical-align: top;\n",
       "    }\n",
       "\n",
       "    .dataframe thead th {\n",
       "        text-align: right;\n",
       "    }\n",
       "</style>\n",
       "<table border=\"1\" class=\"dataframe\">\n",
       "  <thead>\n",
       "    <tr style=\"text-align: right;\">\n",
       "      <th></th>\n",
       "      <th>Day</th>\n",
       "      <th>Sales</th>\n",
       "    </tr>\n",
       "  </thead>\n",
       "  <tbody>\n",
       "    <tr>\n",
       "      <th>29</th>\n",
       "      <td>30</td>\n",
       "      <td>200</td>\n",
       "    </tr>\n",
       "  </tbody>\n",
       "</table>\n",
       "</div>"
      ],
      "text/plain": [
       "    Day  Sales\n",
       "29   30    200"
      ]
     },
     "execution_count": 6,
     "metadata": {},
     "output_type": "execute_result"
    }
   ],
   "source": [
    "out=data[data[\"Sales\"]>(q3+1.5*iqr)]\n",
    "out"
   ]
  },
  {
   "cell_type": "code",
   "execution_count": 7,
   "id": "4014c2b6-bcf0-4d8b-81a3-f047e61d50ae",
   "metadata": {},
   "outputs": [
    {
     "data": {
      "text/plain": [
       "np.int64(200)"
      ]
     },
     "execution_count": 7,
     "metadata": {},
     "output_type": "execute_result"
    }
   ],
   "source": [
    "data[\"Sales\"].max()"
   ]
  },
  {
   "cell_type": "code",
   "execution_count": 8,
   "id": "a219fe00-b68f-4c0d-a322-a19b7dc1ebd7",
   "metadata": {},
   "outputs": [
    {
     "ename": "ValueError",
     "evalue": "('Lengths must match to compare', (30,), (1,))",
     "output_type": "error",
     "traceback": [
      "\u001b[31m---------------------------------------------------------------------------\u001b[39m",
      "\u001b[31mValueError\u001b[39m                                Traceback (most recent call last)",
      "\u001b[36mCell\u001b[39m\u001b[36m \u001b[39m\u001b[32mIn[8]\u001b[39m\u001b[32m, line 1\u001b[39m\n\u001b[32m----> \u001b[39m\u001b[32m1\u001b[39m out=data[data[\u001b[33m\"\u001b[39m\u001b[33mSales\u001b[39m\u001b[33m\"\u001b[39m]>outlier]\n\u001b[32m      2\u001b[39m out\n",
      "\u001b[36mFile \u001b[39m\u001b[32mC:\\anaconda3\\envs\\aiml\\Lib\\site-packages\\pandas\\core\\ops\\common.py:76\u001b[39m, in \u001b[36m_unpack_zerodim_and_defer.<locals>.new_method\u001b[39m\u001b[34m(self, other)\u001b[39m\n\u001b[32m     72\u001b[39m             \u001b[38;5;28;01mreturn\u001b[39;00m \u001b[38;5;28mNotImplemented\u001b[39m\n\u001b[32m     74\u001b[39m other = item_from_zerodim(other)\n\u001b[32m---> \u001b[39m\u001b[32m76\u001b[39m \u001b[38;5;28;01mreturn\u001b[39;00m method(\u001b[38;5;28mself\u001b[39m, other)\n",
      "\u001b[36mFile \u001b[39m\u001b[32mC:\\anaconda3\\envs\\aiml\\Lib\\site-packages\\pandas\\core\\arraylike.py:56\u001b[39m, in \u001b[36mOpsMixin.__gt__\u001b[39m\u001b[34m(self, other)\u001b[39m\n\u001b[32m     54\u001b[39m \u001b[38;5;129m@unpack_zerodim_and_defer\u001b[39m(\u001b[33m\"\u001b[39m\u001b[33m__gt__\u001b[39m\u001b[33m\"\u001b[39m)\n\u001b[32m     55\u001b[39m \u001b[38;5;28;01mdef\u001b[39;00m\u001b[38;5;250m \u001b[39m\u001b[34m__gt__\u001b[39m(\u001b[38;5;28mself\u001b[39m, other):\n\u001b[32m---> \u001b[39m\u001b[32m56\u001b[39m     \u001b[38;5;28;01mreturn\u001b[39;00m \u001b[38;5;28mself\u001b[39m._cmp_method(other, operator.gt)\n",
      "\u001b[36mFile \u001b[39m\u001b[32mC:\\anaconda3\\envs\\aiml\\Lib\\site-packages\\pandas\\core\\series.py:6130\u001b[39m, in \u001b[36mSeries._cmp_method\u001b[39m\u001b[34m(self, other, op)\u001b[39m\n\u001b[32m   6127\u001b[39m lvalues = \u001b[38;5;28mself\u001b[39m._values\n\u001b[32m   6128\u001b[39m rvalues = extract_array(other, extract_numpy=\u001b[38;5;28;01mTrue\u001b[39;00m, extract_range=\u001b[38;5;28;01mTrue\u001b[39;00m)\n\u001b[32m-> \u001b[39m\u001b[32m6130\u001b[39m res_values = ops.comparison_op(lvalues, rvalues, op)\n\u001b[32m   6132\u001b[39m \u001b[38;5;28;01mreturn\u001b[39;00m \u001b[38;5;28mself\u001b[39m._construct_result(res_values, name=res_name)\n",
      "\u001b[36mFile \u001b[39m\u001b[32mC:\\anaconda3\\envs\\aiml\\Lib\\site-packages\\pandas\\core\\ops\\array_ops.py:321\u001b[39m, in \u001b[36mcomparison_op\u001b[39m\u001b[34m(left, right, op)\u001b[39m\n\u001b[32m    316\u001b[39m \u001b[38;5;28;01mif\u001b[39;00m \u001b[38;5;28misinstance\u001b[39m(rvalues, (np.ndarray, ABCExtensionArray)):\n\u001b[32m    317\u001b[39m     \u001b[38;5;66;03m# TODO: make this treatment consistent across ops and classes.\u001b[39;00m\n\u001b[32m    318\u001b[39m     \u001b[38;5;66;03m#  We are not catching all listlikes here (e.g. frozenset, tuple)\u001b[39;00m\n\u001b[32m    319\u001b[39m     \u001b[38;5;66;03m#  The ambiguous case is object-dtype.  See GH#27803\u001b[39;00m\n\u001b[32m    320\u001b[39m     \u001b[38;5;28;01mif\u001b[39;00m \u001b[38;5;28mlen\u001b[39m(lvalues) != \u001b[38;5;28mlen\u001b[39m(rvalues):\n\u001b[32m--> \u001b[39m\u001b[32m321\u001b[39m         \u001b[38;5;28;01mraise\u001b[39;00m \u001b[38;5;167;01mValueError\u001b[39;00m(\n\u001b[32m    322\u001b[39m             \u001b[33m\"\u001b[39m\u001b[33mLengths must match to compare\u001b[39m\u001b[33m\"\u001b[39m, lvalues.shape, rvalues.shape\n\u001b[32m    323\u001b[39m         )\n\u001b[32m    325\u001b[39m \u001b[38;5;28;01mif\u001b[39;00m should_extension_dispatch(lvalues, rvalues) \u001b[38;5;129;01mor\u001b[39;00m (\n\u001b[32m    326\u001b[39m     (\u001b[38;5;28misinstance\u001b[39m(rvalues, (Timedelta, BaseOffset, Timestamp)) \u001b[38;5;129;01mor\u001b[39;00m right \u001b[38;5;129;01mis\u001b[39;00m NaT)\n\u001b[32m    327\u001b[39m     \u001b[38;5;129;01mand\u001b[39;00m lvalues.dtype != \u001b[38;5;28mobject\u001b[39m\n\u001b[32m    328\u001b[39m ):\n\u001b[32m    329\u001b[39m     \u001b[38;5;66;03m# Call the method on lvalues\u001b[39;00m\n\u001b[32m    330\u001b[39m     res_values = op(lvalues, rvalues)\n",
      "\u001b[31mValueError\u001b[39m: ('Lengths must match to compare', (30,), (1,))"
     ]
    }
   ],
   "source": [
    "out=data[data[\"Sales\"]>outlier]\n",
    "out"
   ]
  },
  {
   "cell_type": "code",
   "execution_count": 9,
   "id": "4bc644ea-178a-4cb9-bf93-0d0c3440be47",
   "metadata": {},
   "outputs": [
    {
     "data": {
      "text/html": [
       "<div>\n",
       "<style scoped>\n",
       "    .dataframe tbody tr th:only-of-type {\n",
       "        vertical-align: middle;\n",
       "    }\n",
       "\n",
       "    .dataframe tbody tr th {\n",
       "        vertical-align: top;\n",
       "    }\n",
       "\n",
       "    .dataframe thead th {\n",
       "        text-align: right;\n",
       "    }\n",
       "</style>\n",
       "<table border=\"1\" class=\"dataframe\">\n",
       "  <thead>\n",
       "    <tr style=\"text-align: right;\">\n",
       "      <th></th>\n",
       "      <th>Day</th>\n",
       "      <th>Sales</th>\n",
       "    </tr>\n",
       "  </thead>\n",
       "  <tbody>\n",
       "  </tbody>\n",
       "</table>\n",
       "</div>"
      ],
      "text/plain": [
       "Empty DataFrame\n",
       "Columns: [Day, Sales]\n",
       "Index: []"
      ]
     },
     "execution_count": 9,
     "metadata": {},
     "output_type": "execute_result"
    }
   ],
   "source": [
    "out1=data[data[\"Sales\"]>outlier[0]]\n",
    "out1"
   ]
  },
  {
   "cell_type": "code",
   "execution_count": null,
   "id": "03d59dee-a6b6-4ed1-9642-f48d8e8673e5",
   "metadata": {
    "scrolled": true
   },
   "outputs": [],
   "source": [
    "data[\"Sales\"].replace(outlier,median).reset_index()"
   ]
  },
  {
   "cell_type": "code",
   "execution_count": null,
   "id": "6072c802-3ce9-4146-87f5-53b2934378a3",
   "metadata": {},
   "outputs": [],
   "source": [
    "pharma_data = {'Group': ['Treatment']*10 + ['Control']*10,\n",
    "        'Blood_Pressure': [120, 115, 118, 123, 122, 119, 124, 117, 116, 121,\n",
    "                            130, 135, 140, 138, 142, 136, 139, 134, 137, 141]}\n",
    "pharma_data=pd.DataFrame(pharma_data)"
   ]
  },
  {
   "cell_type": "code",
   "execution_count": null,
   "id": "884f9363-0718-41ce-959b-c53527bef1eb",
   "metadata": {
    "scrolled": true
   },
   "outputs": [],
   "source": [
    "pharma_data"
   ]
  },
  {
   "cell_type": "code",
   "execution_count": null,
   "id": "18267680-af0a-415c-97ac-b620772b170a",
   "metadata": {},
   "outputs": [],
   "source": [
    "control"
   ]
  },
  {
   "cell_type": "code",
   "execution_count": null,
   "id": "130fcafe-d1d8-4180-b64b-b1b99c67f1c8",
   "metadata": {},
   "outputs": [],
   "source": [
    "treatment=pharma_data[pharma_data[\"Group\"]=='Treatment'][\"Blood_Pressure\"]\n",
    "control=pharma_data[pharma_data[\"Group\"]=='Control'][\"Blood_Pressure\"]\n",
    "\n",
    "from scipy.stats import ttest_ind\n",
    "ttest_ind(treatment,control)\n"
   ]
  },
  {
   "cell_type": "code",
   "execution_count": null,
   "id": "6b212b9e-294c-486b-802f-3ab791e5242c",
   "metadata": {},
   "outputs": [],
   "source": [
    "h0=\"There is no significant effect in taking medicine\"\n",
    "h1=\"There is significant effect in taking medicine\"\n",
    "t_statistic,pvalue=ttest_ind(treatment,control)\n",
    "print(\"T-Statistics:\",t_statistic)\n",
    "print(\"P-value:\",pvalue)\n",
    "if pvalue>0.05:\n",
    "    print(\"Null Hypothesis:\",h0)\n",
    "else:\n",
    "    print(\"Alternate Hypothesis:\",h1)"
   ]
  },
  {
   "cell_type": "code",
   "execution_count": null,
   "id": "eae24c66-cf0a-4b3a-bbec-c228501ad3c1",
   "metadata": {},
   "outputs": [],
   "source": [
    "ad_report={'Region':['North','South','East','West','Central'],'Tv_Ad_Budget':[200,300,400,500,600],'Social_Media_Budget':[150,250,300,450,500],'Sales':[20,35,50,60,80]}\n",
    "ad_report=pd.DataFrame(ad_report)\n"
   ]
  },
  {
   "cell_type": "code",
   "execution_count": null,
   "id": "1ec0e852-ce45-434e-bbc2-03d5e0568379",
   "metadata": {},
   "outputs": [],
   "source": [
    "a=ad_report[[\"Tv_Ad_Budget\",\"Sales\"]]\n",
    "tv_sales_cov=a.cov()\n",
    "tv_sales_cov\n",
    "#tv_sales_cov.loc(\"Tv_Ad_Budget\",\"Sales\")"
   ]
  },
  {
   "cell_type": "code",
   "execution_count": null,
   "id": "9ed6c2d6-4a9b-406c-a4b0-df7eed3d224f",
   "metadata": {},
   "outputs": [],
   "source": [
    "tv_sales_cov=a[\"Tv_Ad_Budget\"].cov(a[\"Sales\"])\n",
    "media_sales_cov=ad_report[\"Social_Media_Budget\"].cov(ad_report[\"Sales\"])\n",
    "tv_sales_corr=a[\"Tv_Ad_Budget\"].corr(a[\"Sales\"])\n",
    "media_sales_corr=ad_report[\"Social_Media_Budget\"].corr(ad_report[\"Sales\"])"
   ]
  },
  {
   "cell_type": "code",
   "execution_count": null,
   "id": "1725ab26-ce06-440a-ae4e-f5d8e1a22ce3",
   "metadata": {},
   "outputs": [],
   "source": [
    "#cov_tv=np.cov(ad_report[\"Tv_Ad_Budget\"],ad_report[\"Sales\"])\n",
    "#cov_social=np.cov(ad_report[\"Social_Media_Budget\"],ad_report[\"Sales\"])\n",
    "print(\"Covariance of Tv Ad Budget:\",tv_sales_cov)\n",
    "print(\"Covariance of Social Media budget:\",media_sales_cov)\n",
    "print(\"Correlation of Tv Ad Budget:\",tv_sales_corr)\n",
    "print(\"Correlation of Social Media budget:\",media_sales_corr)"
   ]
  },
  {
   "cell_type": "code",
   "execution_count": 10,
   "id": "5e766fce-8a75-4ff5-af4e-6f3c5d9d79e4",
   "metadata": {},
   "outputs": [
    {
     "name": "stdout",
     "output_type": "stream",
     "text": [
      "65.0625\n",
      "41.718504212759115\n"
     ]
    }
   ],
   "source": [
    "dataset=[25, 30, 28, 45, 55, 60, 22, 80, 95, 120, 33, 29, 27, 35, 40, 50, 85, 110, 105, 92, 30, 34, 31, 33, 36, 42, 44, 48, 90, 200, 20, 25, 27, 32, 38, 41, 47, 58, 62, 77, 80, 84, 90, 110, 123, 145, 150, 160]\n",
    "\n",
    "mean=np.mean(dataset)\n",
    "std=np.std(dataset)\n",
    "print(mean)\n",
    "print(std)\n",
    "import matplotlib.pyplot as plt\n",
    "import seaborn as sns\n",
    "from scipy import stats\n",
    "import numpy as np\n",
    "from scipy.stats import norm\n",
    "x=np.linspace(min(dataset),max(dataset),1000)\n",
    "pdf=stats.norm.pdf(x,mean,std)\n",
    "\n",
    "\n"
   ]
  },
  {
   "cell_type": "code",
   "execution_count": 11,
   "id": "5c447cb6-5dc9-40c4-b1a7-ec0e7947f6f5",
   "metadata": {},
   "outputs": [
    {
     "data": {
      "image/png": "[encoded data removed]",
      "text/plain": [
       "<Figure size 640x480 with 1 Axes>"
      ]
     },
     "metadata": {},
     "output_type": "display_data"
    }
   ],
   "source": [
    "plt.plot(x,pdf,color='red')\n",
    "plt.xlabel('Value')\n",
    "plt.ylabel('Probability Density')\n",
    "plt.title('Probability Density Function')\n",
    "plt.show()"
   ]
  },
  {
   "cell_type": "code",
   "execution_count": null,
   "id": "79e1cac9-86e2-4bc4-98a6-999c4881f0e7",
   "metadata": {},
   "outputs": [],
   "source": []
  }
 ],
 "metadata": {
  "kernelspec": {
   "display_name": "Python [conda env:aiml]",
   "language": "python",
   "name": "conda-env-aiml-py"
  },
  "language_info": {
   "codemirror_mode": {
    "name": "ipython",
    "version": 3
   },
   "file_extension": ".py",
   "mimetype": "text/x-python",
   "name": "python",
   "nbconvert_exporter": "python",
   "pygments_lexer": "ipython3",
   "version": "3.13.0"
  }
 },
 "nbformat": 4,
 "nbformat_minor": 5
}
